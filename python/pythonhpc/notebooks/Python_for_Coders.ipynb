{
 "cells": [
  {
   "cell_type": "markdown",
   "metadata": {},
   "source": [
    "# Python for Coders\n",
    "\n",
    "This introduction to Python is designed for people who have had some experience writing code in other languages.\n",
    "\n",
    "# Part 0\n",
    "\n",
    "## Python\n",
    "\n",
    "\n",
    "In case you are wondering we are using Python 3.4, Python 2.7 is very similar in terms of the code you write, but we won't worry about the differences in this session.\n",
    "\n",
    "> There are some 3rd party libraries which do no yet support Python 3 but that list is growing very small very\n",
    "\n",
    "## Shell\n",
    "\n",
    "As you go through the material please type out the examples in your command line shell or using IDLE. You can try other things and if you have questions we will be happy to answer them.\n",
    "\n",
    "To access the command line shell open a terminal and type `python`.  You should be presented with a Python prompt which should look like this:"
   ]
  },
  {
   "cell_type": "code",
   "execution_count": null,
   "metadata": {
    "collapsed": false
   },
   "outputs": [],
   "source": [
    "Python 3.4.2 (...)\n",
    "[GCC 4.2.1 (...)] on ...\n",
    "Type \"help\", \"copyright\", \"credits\" or \"license\" for more information.\n",
    ">>>"
   ]
  },
  {
   "cell_type": "markdown",
   "metadata": {},
   "source": [
    "# Part 1\n",
    "\n",
    "## The Basics\n",
    "\n",
    "Let's start with some simple math. Python is an interpreted language which means you can execute expressions interactively at a prompt. Everything you see in a block can be evaluated at a your open Python prompt."
   ]
  },
  {
   "cell_type": "code",
   "execution_count": null,
   "metadata": {
    "collapsed": false
   },
   "outputs": [],
   "source": [
    "1 + 1"
   ]
  },
  {
   "cell_type": "markdown",
   "metadata": {},
   "source": [
    "Python supports integers across different bases, floating point and complex numbers. There is a builtin libraries for decimal numbers and an extensive 3rd party library for scientific numeric processing called NumPy. Here are a few Python numeric literals.\n"
   ]
  },
  {
   "cell_type": "code",
   "execution_count": null,
   "metadata": {
    "collapsed": false
   },
   "outputs": [],
   "source": [
    "-42 # Strictly this isn't a numeric literal it is a composition of the - operator and a literal"
   ]
  },
  {
   "cell_type": "code",
   "execution_count": null,
   "metadata": {
    "collapsed": false
   },
   "outputs": [],
   "source": [
    "3.1415"
   ]
  },
  {
   "cell_type": "code",
   "execution_count": null,
   "metadata": {
    "collapsed": false
   },
   "outputs": [],
   "source": [
    "42e10 # Scientific notation for floats"
   ]
  },
  {
   "cell_type": "code",
   "execution_count": null,
   "metadata": {
    "collapsed": false
   },
   "outputs": [],
   "source": [
    "1 / 2 #Gives us the right answer!"
   ]
  },
  {
   "cell_type": "markdown",
   "metadata": {},
   "source": [
    "Most the math operators work the way you expect. There is also a power operator,"
   ]
  },
  {
   "cell_type": "code",
   "execution_count": null,
   "metadata": {
    "collapsed": false
   },
   "outputs": [],
   "source": [
    "2**4"
   ]
  },
  {
   "cell_type": "markdown",
   "metadata": {},
   "source": [
    "and a modulo operator:"
   ]
  },
  {
   "cell_type": "code",
   "execution_count": null,
   "metadata": {
    "collapsed": false
   },
   "outputs": [],
   "source": [
    "5%3"
   ]
  },
  {
   "cell_type": "markdown",
   "metadata": {},
   "source": [
    "## Strings\n",
    "\n",
    "Strings in Python are surround by either single quotes or double quotes."
   ]
  },
  {
   "cell_type": "code",
   "execution_count": null,
   "metadata": {
    "collapsed": false
   },
   "outputs": [],
   "source": [
    "\"Hello, World!\""
   ]
  },
  {
   "cell_type": "code",
   "execution_count": null,
   "metadata": {
    "collapsed": false
   },
   "outputs": [],
   "source": [
    "'<a href=\"http://google.com\">Link</a>' # Single quoted strings are handy for including double quotes in a string"
   ]
  },
  {
   "cell_type": "code",
   "execution_count": null,
   "metadata": {
    "collapsed": false
   },
   "outputs": [],
   "source": [
    "\"<a href=\\\"http://google.com\\\">Link</a>\" # You can use \\ to escape any quote, but that is pain"
   ]
  },
  {
   "cell_type": "markdown",
   "metadata": {},
   "source": [
    "There are also special triple quoted strings which are useful when you want to perserve whitespace."
   ]
  },
  {
   "cell_type": "code",
   "execution_count": null,
   "metadata": {
    "collapsed": false
   },
   "outputs": [],
   "source": [
    "\"\"\"Triple quote string allow new lines,\n",
    "which is handy for template strings.\n",
    "Python also uses them for source documentation.\n",
    "I have seem people use them for comments but I\n",
    "think that is a terrible practice. There are no\n",
    "multiline comments but most editors and prepend\n",
    "# to a group of selected lines.\"\"\""
   ]
  },
  {
   "cell_type": "markdown",
   "metadata": {},
   "source": [
    "When we excute a single value in the interpreter, Python returns the representation of the internal value, if you want to see how tripple quoted when they are printed use the builtin print function."
   ]
  },
  {
   "cell_type": "code",
   "execution_count": null,
   "metadata": {
    "collapsed": false
   },
   "outputs": [],
   "source": [
    "string = \"\"\"This is a triple quoted string\n",
    "set to a variable named string\"\"\"\n",
    "print(string)"
   ]
  },
  {
   "cell_type": "markdown",
   "metadata": {},
   "source": [
    "## Variables\n",
    "\n",
    "In Python variables are like buckets (dump trucks?). You can put anything you want in them. Just give them a name and you can use them in place of the literal value or objects."
   ]
  },
  {
   "cell_type": "code",
   "execution_count": null,
   "metadata": {
    "collapsed": false
   },
   "outputs": [],
   "source": [
    "variable = 200.00\n",
    "print(variable)"
   ]
  },
  {
   "cell_type": "code",
   "execution_count": null,
   "metadata": {
    "collapsed": false
   },
   "outputs": [],
   "source": [
    "variable = \"Hello, World!\"\n",
    "print(variable)"
   ]
  },
  {
   "cell_type": "markdown",
   "metadata": {},
   "source": [
    "The value a variable has only depends on what it was last assigned. The variable doesn't have a type, but the object it points to is strongly typed.\n",
    "\n",
    "## Errors in Python\n",
    "\n",
    "When you write something Python doesn't understand the interpreter throws an error and tries to explain what went wrong, as best it can. Let's see some examples by running these code blocks"
   ]
  },
  {
   "cell_type": "code",
   "execution_count": null,
   "metadata": {
    "collapsed": false
   },
   "outputs": [],
   "source": [
    "# run or copy and paste each line into your intrepreter to see the kinds of error Python can raise\n",
    "gibberish"
   ]
  },
  {
   "cell_type": "code",
   "execution_count": null,
   "metadata": {
    "collapsed": false
   },
   "outputs": [],
   "source": [
    "*adsflf_"
   ]
  },
  {
   "cell_type": "code",
   "execution_count": null,
   "metadata": {
    "collapsed": false
   },
   "outputs": [],
   "source": [
    "print('Hello'"
   ]
  },
  {
   "cell_type": "code",
   "execution_count": null,
   "metadata": {
    "collapsed": false
   },
   "outputs": [],
   "source": [
    "1v34"
   ]
  },
  {
   "cell_type": "code",
   "execution_count": null,
   "metadata": {
    "collapsed": false
   },
   "outputs": [],
   "source": [
    "2000 / 0"
   ]
  },
  {
   "cell_type": "markdown",
   "metadata": {},
   "source": [
    "Python tries to tell you where it stopped understanding, but in the above examples, each program is only 1 line long.\n",
    "\n",
    "It also tries to show you where on the line the problem happened with caret (\"^\").\n",
    "\n",
    "Finally it tells you the type of thing that went wrong, (NameError, SyntaxError, ZeroDivisionError) and a bit more information like \"name 'gibberish' is not defined\" or \"unexpected EOF while parsing\".\n",
    "If you run into an error you don't understand please ask a tutor.\n",
    "\n",
    "## Exercises\n",
    "\n",
    "Try to fix the two blocks of code so that they run successfully."
   ]
  },
  {
   "cell_type": "code",
   "execution_count": null,
   "metadata": {
    "collapsed": false
   },
   "outputs": [],
   "source": [
    "# Block 1\n",
    "print('Hello, World!)"
   ]
  },
  {
   "cell_type": "code",
   "execution_count": null,
   "metadata": {
    "collapsed": false
   },
   "outputs": [],
   "source": [
    "# Block 2\n",
    "aswer = 3 * 8\n",
    "print(answer)"
   ]
  },
  {
   "cell_type": "markdown",
   "metadata": {},
   "source": [
    "## Part 2\n",
    "\n",
    "# Variables, objects, and helpful interspection\n",
    "\n",
    "Variables don't have types, that is why they are sometimes called names. Python uses duck typing. If something looks like duck or quacks like a duck, it is a duck. If Python tries to do something assuming a variable is a duck and finds out it isn't, it will generally throw an exception.\n",
    "\n",
    "Some might say Python is weakly typed. It is true the variables aren't typed, but the objects a variable refers to are strongly typed. (Unlike C where you can take bytes and call them a string or an integer.)\n",
    "\n",
    "Python is also very object oriented in the way most everything is an object, and though you can create your own classes, you don't have to.\n",
    "\n",
    "String are objects which have methods, we can use dir and help to learn what they are."
   ]
  },
  {
   "cell_type": "code",
   "execution_count": null,
   "metadata": {
    "collapsed": false
   },
   "outputs": [],
   "source": [
    "dir(\"Hello, World!\") # list all methods on a string"
   ]
  },
  {
   "cell_type": "markdown",
   "metadata": {},
   "source": [
    "Consider the names with the double underscores as private. There are still a lot of methods. Let's look at upper and lower which change the strings case."
   ]
  },
  {
   "cell_type": "code",
   "execution_count": null,
   "metadata": {
    "collapsed": false
   },
   "outputs": [],
   "source": [
    "\"Hello, World!\".upper()"
   ]
  },
  {
   "cell_type": "markdown",
   "metadata": {},
   "source": [
    "We can also use the builtin help function to access documentation about a function or object."
   ]
  },
  {
   "cell_type": "code",
   "execution_count": null,
   "metadata": {
    "collapsed": false
   },
   "outputs": [],
   "source": [
    "help(\"Hello, World\".upper)"
   ]
  },
  {
   "cell_type": "markdown",
   "metadata": {},
   "source": [
    "`dir` and `help` are very helpful builtin functions that allow you to explore Python via the command line prompt. Change \"upper\" in the above example to other methods listed to see what they do.\n",
    "\n",
    "> You can type `q` to exist the help screen.\n",
    "\n",
    "Strings also support some standard operations including + to concatenate and * to multiply"
   ]
  },
  {
   "cell_type": "code",
   "execution_count": null,
   "metadata": {
    "collapsed": false
   },
   "outputs": [],
   "source": [
    "\"Hello,\" + \" World!\""
   ]
  },
  {
   "cell_type": "code",
   "execution_count": null,
   "metadata": {
    "collapsed": false
   },
   "outputs": [],
   "source": [
    "\"MEOW \" * 5"
   ]
  },
  {
   "cell_type": "markdown",
   "metadata": {},
   "source": [
    "##Formatting\n",
    "\n",
    "There are a few different ways to format strings with Python. In this session we will focus on the format method."
   ]
  },
  {
   "cell_type": "code",
   "execution_count": null,
   "metadata": {
    "collapsed": false
   },
   "outputs": [],
   "source": [
    "your_name = \"Albert O'Connor\"\n",
    "string = \"Hello, {0}!\"\n",
    "print(string.format(your_name))"
   ]
  },
  {
   "cell_type": "markdown",
   "metadata": {},
   "source": [
    "We can also used literal strings:"
   ]
  },
  {
   "cell_type": "code",
   "execution_count": null,
   "metadata": {
    "collapsed": false
   },
   "outputs": [],
   "source": [
    "print(\"Hello, {0}!\".format(\"Albert O'Connor\"))"
   ]
  },
  {
   "cell_type": "markdown",
   "metadata": {},
   "source": [
    "`{0}` is the default positional placeholder for format, but that can be customized.\n",
    "\n",
    "## Indexed by Zero\n",
    "\n",
    "For better or worse, (and practically it is better most of the time) everything in Python is index by 0.\n",
    "\n",
    "# Part 3\n",
    "\n",
    "## If Else\n",
    "\n",
    "The literal values in Python for true and false are `True` and `False`."
   ]
  },
  {
   "cell_type": "code",
   "execution_count": null,
   "metadata": {
    "collapsed": false
   },
   "outputs": [],
   "source": [
    "False == False"
   ]
  },
  {
   "cell_type": "code",
   "execution_count": null,
   "metadata": {
    "collapsed": false
   },
   "outputs": [],
   "source": [
    "True == True"
   ]
  },
  {
   "cell_type": "code",
   "execution_count": null,
   "metadata": {
    "collapsed": false
   },
   "outputs": [],
   "source": [
    "True == False"
   ]
  },
  {
   "cell_type": "code",
   "execution_count": null,
   "metadata": {
    "collapsed": false
   },
   "outputs": [],
   "source": [
    "True == False"
   ]
  },
  {
   "cell_type": "markdown",
   "metadata": {},
   "source": [
    "Boolean operators include `>`, `<`, `<=`, `>=`, `==`, `not`, `and`, `or`, `in` and `is`. String also have some helpful boolean methods."
   ]
  },
  {
   "cell_type": "code",
   "execution_count": null,
   "metadata": {
    "collapsed": false
   },
   "outputs": [],
   "source": [
    "1 > 2"
   ]
  },
  {
   "cell_type": "code",
   "execution_count": null,
   "metadata": {
    "collapsed": false
   },
   "outputs": [],
   "source": [
    "\"Cool\".startswith(\"C\")"
   ]
  },
  {
   "cell_type": "code",
   "execution_count": null,
   "metadata": {
    "collapsed": false
   },
   "outputs": [],
   "source": [
    "\"Cool\".endswith(\"C\")"
   ]
  },
  {
   "cell_type": "code",
   "execution_count": null,
   "metadata": {
    "collapsed": false
   },
   "outputs": [],
   "source": [
    "\"oo\" in \"Cool\""
   ]
  },
  {
   "cell_type": "code",
   "execution_count": null,
   "metadata": {
    "collapsed": false
   },
   "outputs": [],
   "source": [
    "42 == 1"
   ]
  },
  {
   "cell_type": "markdown",
   "metadata": {},
   "source": [
    "In order to write an \"if\" statement we need code that spans multiple lines"
   ]
  },
  {
   "cell_type": "code",
   "execution_count": null,
   "metadata": {
    "collapsed": false
   },
   "outputs": [],
   "source": [
    "condition = True\n",
    "if condition:\n",
    "    print(\"Condition is True\")\n",
    "else:\n",
    "    print(\"Condition is False\")"
   ]
  },
  {
   "cell_type": "markdown",
   "metadata": {},
   "source": [
    "Some things to notice. The if condition ends in a colon (\":\"). In Python blocks of code are indicated with a colon (\":\") and are grouped by white space. Notice the else also ends with a colon (\":\"), \"else:\".\n",
    "\n",
    "About that white space, consider the following code:"
   ]
  },
  {
   "cell_type": "code",
   "execution_count": null,
   "metadata": {
    "collapsed": false
   },
   "outputs": [],
   "source": [
    "if condition:\n",
    "    print(\"Condition is True\")\n",
    "else:\n",
    "    print(\"Condition is False\")\n",
    "print(\"Condition is True or False, either way this is outputted\")"
   ]
  },
  {
   "cell_type": "markdown",
   "metadata": {},
   "source": [
    "Since the last print function isn't indented it gets run after the if block or the else block.\n",
    "You can play with this. Try indenting the last print function below and see what happens."
   ]
  },
  {
   "cell_type": "code",
   "execution_count": null,
   "metadata": {
    "collapsed": false
   },
   "outputs": [],
   "source": [
    "condition = True\n",
    "if condition:\n",
    "    print(\"Condition is True\")\n",
    "else:\n",
    "    print(\"Condition is False\")\n",
    "    print(\"Now it is indented when will this statement be excuted?\")"
   ]
  },
  {
   "cell_type": "markdown",
   "metadata": {},
   "source": [
    "It is handy to note that a single = in a condition like below is actually a syntax error!"
   ]
  },
  {
   "cell_type": "code",
   "execution_count": null,
   "metadata": {
    "collapsed": false
   },
   "outputs": [],
   "source": [
    "if 1 = 3:\n",
    "    print(\"True!\")"
   ]
  },
  {
   "cell_type": "markdown",
   "metadata": {},
   "source": [
    "## Whitespace\n",
    "On the surface the use of whitespace in Python is kind of controversial.\n",
    "\n",
    "The benefit is there are not endless debates how to format code, there is basically one right way, and it makes code more readable.\n",
    "\n",
    "The downside is you can run into errors with whitespace.\n",
    "\n",
    "A good editor configured to use spaces instead of tabs and and indent side of 4 should keep you safe.\n",
    "\n",
    "#Part 4\n",
    "\n",
    "##Tuples, Lists, Loops and Dicts\n",
    "\n",
    "Lists are the first container type we will look at."
   ]
  },
  {
   "cell_type": "code",
   "execution_count": null,
   "metadata": {
    "collapsed": false
   },
   "outputs": [],
   "source": [
    "[] # The empty list"
   ]
  },
  {
   "cell_type": "code",
   "execution_count": null,
   "metadata": {
    "collapsed": false
   },
   "outputs": [],
   "source": [
    "[\"Milk\", \"Eggs\", \"Bacon\"]"
   ]
  },
  {
   "cell_type": "code",
   "execution_count": null,
   "metadata": {
    "collapsed": false
   },
   "outputs": [],
   "source": [
    "[1,2,3]"
   ]
  },
  {
   "cell_type": "markdown",
   "metadata": {},
   "source": [
    "List literals are all about square brackets (\"[ ]\") and commas (\",\"). You can create a list of literals by wrapping them in square brackets and separating them with commas.\n",
    "You can even mix different types of things into the same list; numbers, strings, booleans."
   ]
  },
  {
   "cell_type": "code",
   "execution_count": null,
   "metadata": {
    "collapsed": false
   },
   "outputs": [],
   "source": [
    "[True, 0, \"Awesome\"]"
   ]
  },
  {
   "cell_type": "markdown",
   "metadata": {},
   "source": [
    "We can put variables into a list and set a variable to a list."
   ]
  },
  {
   "cell_type": "code",
   "execution_count": null,
   "metadata": {
    "collapsed": false
   },
   "outputs": [],
   "source": [
    "your_name = \"Albert O'Connor\"\n",
    "awesome_people = [\"Eric Idle\", your_name]\n",
    "print(awesome_people)"
   ]
  },
  {
   "cell_type": "markdown",
   "metadata": {},
   "source": [
    "Like strings lists have methods which we can see with dir."
   ]
  },
  {
   "cell_type": "code",
   "execution_count": null,
   "metadata": {
    "collapsed": false
   },
   "outputs": [],
   "source": [
    "dir([])"
   ]
  },
  {
   "cell_type": "markdown",
   "metadata": {},
   "source": [
    "\"append\" lets you add an item to the end of a list."
   ]
  },
  {
   "cell_type": "code",
   "execution_count": null,
   "metadata": {
    "collapsed": false
   },
   "outputs": [],
   "source": [
    "your_name = \"Albert O'Connor\"\n",
    "awesome_people = [\"Eric Idle\", your_name]\n",
    "awesome_people.append(\"John Cleese\")\n",
    "print(awesome_people)"
   ]
  },
  {
   "cell_type": "markdown",
   "metadata": {},
   "source": [
    "We use square brackets (\"[]\") again with the variable of the list to access individual elements."
   ]
  },
  {
   "cell_type": "code",
   "execution_count": null,
   "metadata": {
    "collapsed": false
   },
   "outputs": [],
   "source": [
    "awesome_people[0]"
   ]
  },
  {
   "cell_type": "markdown",
   "metadata": {},
   "source": [
    "If you want the last element, use:"
   ]
  },
  {
   "cell_type": "code",
   "execution_count": null,
   "metadata": {
    "collapsed": false
   },
   "outputs": [],
   "source": [
    "awesome_people[-1]"
   ]
  },
  {
   "cell_type": "markdown",
   "metadata": {},
   "source": [
    "Finally, if you need to know how many elements a list contains, use:"
   ]
  },
  {
   "cell_type": "code",
   "execution_count": null,
   "metadata": {
    "collapsed": false
   },
   "outputs": [],
   "source": [
    "len(awesome_people)"
   ]
  },
  {
   "cell_type": "markdown",
   "metadata": {},
   "source": [
    "## Tuples\n",
    "\n",
    "Tuples are similar to lists, except they are immutable. You can create a new tuple out of existing tuples, but you can not append to an existing tuple. Strings are actually tuples of characters and are also immutable. You can make a new string out of an existing string, but you can't change a Python string in place. If you need a buffer there are builtin libraries that provide that."
   ]
  },
  {
   "cell_type": "code",
   "execution_count": null,
   "metadata": {
    "collapsed": false
   },
   "outputs": [],
   "source": [
    "() # empty tuple"
   ]
  },
  {
   "cell_type": "code",
   "execution_count": null,
   "metadata": {
    "collapsed": false
   },
   "outputs": [],
   "source": [
    "(1,) # tuple with on element in it, the extra comma is needed to make it clear it isn't just brackets"
   ]
  },
  {
   "cell_type": "code",
   "execution_count": null,
   "metadata": {
    "collapsed": false
   },
   "outputs": [],
   "source": [
    "('Awesome', 42) # tuples can also contain mixed types"
   ]
  },
  {
   "cell_type": "code",
   "execution_count": null,
   "metadata": {
    "collapsed": false
   },
   "outputs": [],
   "source": [
    "1, 2, 3 # you don't actually need the brackets in some cases."
   ]
  },
  {
   "cell_type": "code",
   "execution_count": null,
   "metadata": {
    "collapsed": false
   },
   "outputs": [],
   "source": [
    "pair = ('+', 'plus')"
   ]
  },
  {
   "cell_type": "code",
   "execution_count": null,
   "metadata": {
    "collapsed": false
   },
   "outputs": [],
   "source": [
    "sign, name = pair # tuples can be unpacked"
   ]
  },
  {
   "cell_type": "code",
   "execution_count": null,
   "metadata": {
    "collapsed": false
   },
   "outputs": [],
   "source": [
    "print(sign + ': ' + name)"
   ]
  },
  {
   "cell_type": "markdown",
   "metadata": {},
   "source": [
    "Tuples are great for passing around data in group or returning more than one value from a function."
   ]
  },
  {
   "cell_type": "code",
   "execution_count": null,
   "metadata": {
    "collapsed": false
   },
   "outputs": [],
   "source": [
    "a = 1\n",
    "b = 2\n",
    "a, b = b, a # You can implement swap in one line!\n",
    "print(a)\n",
    "print(b)"
   ]
  },
  {
   "cell_type": "markdown",
   "metadata": {},
   "source": [
    "Let's see what else tuples can do:"
   ]
  },
  {
   "cell_type": "code",
   "execution_count": null,
   "metadata": {
    "collapsed": false
   },
   "outputs": [],
   "source": [
    "dir(())"
   ]
  },
  {
   "cell_type": "markdown",
   "metadata": {},
   "source": [
    "Tuples don't have many methods mostly because they are a immuatable primitive type.\n",
    "\n",
    "## Loops\n",
    "\n",
    "Python's main loop is foreach style that looks like this:"
   ]
  },
  {
   "cell_type": "code",
   "execution_count": null,
   "metadata": {
    "collapsed": false
   },
   "outputs": [],
   "source": [
    "list = [1, 2, 3]\n",
    "for item in list:\n",
    "    print(item) # Do any action per item in the list"
   ]
  },
  {
   "cell_type": "markdown",
   "metadata": {},
   "source": [
    "`item` is the variable name for each item in the list. The list can be any iterable including a list or a tuple or the results of a database query.\n",
    "\n",
    "Let's see it in action with our list"
   ]
  },
  {
   "cell_type": "code",
   "execution_count": null,
   "metadata": {
    "collapsed": false
   },
   "outputs": [],
   "source": [
    "your_name = \"Albert O'Connor\"\n",
    "awesome_people = [\"Eric Idle\", your_name]\n",
    "awesome_people.append(\"John Cleese\")"
   ]
  },
  {
   "cell_type": "code",
   "execution_count": null,
   "metadata": {
    "collapsed": false
   },
   "outputs": [],
   "source": [
    "for person in awesome_people:\n",
    "    print(person)"
   ]
  },
  {
   "cell_type": "markdown",
   "metadata": {},
   "source": [
    "If you really want an index style for loop you can use the built in method range or the builtin in function enumerate."
   ]
  },
  {
   "cell_type": "code",
   "execution_count": null,
   "metadata": {
    "collapsed": false
   },
   "outputs": [],
   "source": [
    "# Try range out by itself first.\n",
    "range(0,10)"
   ]
  },
  {
   "cell_type": "code",
   "execution_count": null,
   "metadata": {
    "collapsed": false
   },
   "outputs": [],
   "source": [
    "for number in range(0,10):\n",
    "    print(\"{0} squared is {1}\".format(number, number*number))"
   ]
  },
  {
   "cell_type": "markdown",
   "metadata": {},
   "source": [
    "We can explicitly index a list, but you generally don't need to."
   ]
  },
  {
   "cell_type": "code",
   "execution_count": null,
   "metadata": {
    "collapsed": false
   },
   "outputs": [],
   "source": [
    "list = ['bacon', 'eggs', 'ham']\n",
    "for i in range(3):\n",
    "    print(list[i]) # you can do this but why would you want to?"
   ]
  },
  {
   "cell_type": "markdown",
   "metadata": {},
   "source": [
    "If you want the index values assoicated with a list you can use the builtin `enumerate`"
   ]
  },
  {
   "cell_type": "code",
   "execution_count": null,
   "metadata": {
    "collapsed": false
   },
   "outputs": [],
   "source": [
    "list = ['bacon', 'eggs', 'ham']\n",
    "for i, value in enumerate(list): # Sweet tuple unpacking\n",
    "    print(str(i) + \": \" + value) # Use enumerate if you want to operate based on the current index."
   ]
  },
  {
   "cell_type": "markdown",
   "metadata": {},
   "source": [
    "## While\n",
    "Though it isn't used too often there is a while loop. One nice property of foreach style loop is you can't create an infinite loop without trying really really hard. With a while loop it is as easy as any lanugage. This is the syntax:"
   ]
  },
  {
   "cell_type": "code",
   "execution_count": null,
   "metadata": {
    "collapsed": false
   },
   "outputs": [],
   "source": [
    "# Don't copy this, if some_condition were true you would get an infinite loop :)\n",
    "while some_condition:\n",
    "    print(\"Something\")"
   ]
  },
  {
   "cell_type": "markdown",
   "metadata": {},
   "source": [
    "Sometimes it is useful to have an infinite loop from which you escape when come condtion is satisfied."
   ]
  },
  {
   "cell_type": "code",
   "execution_count": null,
   "metadata": {
    "collapsed": false
   },
   "outputs": [],
   "source": [
    "while(True):\n",
    "    a=2\n",
    "    if(a==2):\n",
    "        break"
   ]
  },
  {
   "cell_type": "markdown",
   "metadata": {},
   "source": [
    "##Dictionaries\n",
    "\n",
    "Dictionaries are another container like lists, but instead of being indexed by a number like 0 or 1 it is indexed by a key which can be almost anything. The name comes from being able to use it to represent a dictionary.\n",
    "\n",
    "List literals use square brackets (\"[]\") but dictionaries use braces (\"{}\").\n",
    "\n",
    "Let's see what the literal dictionary looks like."
   ]
  },
  {
   "cell_type": "code",
   "execution_count": null,
   "metadata": {
    "collapsed": false
   },
   "outputs": [],
   "source": [
    "{\"Python\": \"An awesome programming language\",\n",
    " \"Monty Python\": \"A british comedy troupe\"}"
   ]
  },
  {
   "cell_type": "markdown",
   "metadata": {},
   "source": [
    "In a dictionary the key comes first followed by a colon (\":\") then the value then a comma (\",\") then another key and so on. This is one situation where a colon doesn't start a block.\n",
    "\n",
    "We can assign a dictionary to a variable and we can index it by keys to get the values (definitions) out."
   ]
  },
  {
   "cell_type": "code",
   "execution_count": null,
   "metadata": {
    "collapsed": false
   },
   "outputs": [],
   "source": [
    "our_dictionary = {\n",
    "   \"Python\": \"An awesome programming language\",\n",
    "   \"Monty Python\": \"A british comedy troupe\"\n",
    "}\n",
    "our_dictionary[\"Python\"]"
   ]
  },
  {
   "cell_type": "markdown",
   "metadata": {},
   "source": [
    "We can loop over the keys in a dictionary to list all of our definitions..."
   ]
  },
  {
   "cell_type": "code",
   "execution_count": null,
   "metadata": {
    "collapsed": false
   },
   "outputs": [],
   "source": [
    "for key in our_dictionary:\n",
    "    print('The Key is \"{0}\" and the value is  \"{1}\"'.format(key, our_dictionary[key]))"
   ]
  },
  {
   "cell_type": "markdown",
   "metadata": {},
   "source": [
    "# Part 5\n",
    "\n",
    "## Functions\n",
    "\n",
    "A function looks like this:"
   ]
  },
  {
   "cell_type": "code",
   "execution_count": null,
   "metadata": {
    "collapsed": false
   },
   "outputs": [],
   "source": [
    "def add(a, b):\n",
    "    return a + b"
   ]
  },
  {
   "cell_type": "markdown",
   "metadata": {},
   "source": [
    "`def` is the keyword to define a function. `add` in the above example is the name. All functions require a parameter list surrounded by an open bracket \"(\" and close bracket \")\" even if there are no parameters. `return` is also a keyword which is required return a value. If it isn't provided `None` is returned. Function bodies are block like if statements and for loops.\n",
    "\n",
    "##None\n",
    "\n",
    "`None` is Python's null object. There is only one created when the interrepter stared. `None` evaluates to `False`."
   ]
  },
  {
   "cell_type": "code",
   "execution_count": null,
   "metadata": {
    "collapsed": false
   },
   "outputs": [],
   "source": [
    "None\n",
    "bool(None)"
   ]
  },
  {
   "cell_type": "markdown",
   "metadata": {},
   "source": [
    "That is a lot of information about function lets try out some of it."
   ]
  },
  {
   "cell_type": "code",
   "execution_count": null,
   "metadata": {
    "collapsed": false
   },
   "outputs": [],
   "source": [
    "def the_answer(): # Even when there are no parameters you still need the brackets\n",
    "    return 42\n",
    "the_answer # Outputs information about the function object, see everything is an object"
   ]
  },
  {
   "cell_type": "markdown",
   "metadata": {},
   "source": [
    "Now let's try calling our function."
   ]
  },
  {
   "cell_type": "code",
   "execution_count": null,
   "metadata": {
    "collapsed": false
   },
   "outputs": [],
   "source": [
    "def the_answer(): # Even when there are no parameters you still need the brackets\n",
    "    return 42\n",
    "the_answer() # The brackets are need to call the function"
   ]
  },
  {
   "cell_type": "code",
   "execution_count": null,
   "metadata": {
    "collapsed": false
   },
   "outputs": [],
   "source": [
    "def hello(name):\n",
    "    return \"Hello, {0}!\".format(name)\n",
    "hello(\"Awesome\")"
   ]
  },
  {
   "cell_type": "code",
   "execution_count": null,
   "metadata": {
    "collapsed": false
   },
   "outputs": [],
   "source": [
    "def no_return(): # With out return None gets returned\n",
    "    1 + 2\n",
    "no_return()"
   ]
  },
  {
   "cell_type": "markdown",
   "metadata": {},
   "source": [
    "## Flexible Arguments\n",
    "\n",
    "There are two types of arguments, positional and keyword. So far we have only seen positional arguments. Keyword agruments have default values."
   ]
  },
  {
   "cell_type": "code",
   "execution_count": null,
   "metadata": {
    "collapsed": false
   },
   "outputs": [],
   "source": [
    "def add_5_to(value=0):\n",
    "    return value + 5"
   ]
  },
  {
   "cell_type": "code",
   "execution_count": null,
   "metadata": {
    "collapsed": false
   },
   "outputs": [],
   "source": [
    "print(add_5_to())"
   ]
  },
  {
   "cell_type": "code",
   "execution_count": null,
   "metadata": {
    "collapsed": false
   },
   "outputs": [],
   "source": [
    "print(add_5_to(15))"
   ]
  },
  {
   "cell_type": "code",
   "execution_count": null,
   "metadata": {
    "collapsed": false
   },
   "outputs": [],
   "source": [
    "print(add_5_to(value=20))"
   ]
  },
  {
   "cell_type": "markdown",
   "metadata": {},
   "source": [
    "Keyword arguments can be called explicitly by keyword or implicitly by position, which can be a bit confusing. In the function definition positional arguments have to come before keyword arguments. When processing argument the same rule applies. Positional arguments are pocessed until the first keyword argurment is reached."
   ]
  },
  {
   "cell_type": "code",
   "execution_count": null,
   "metadata": {
    "collapsed": false
   },
   "outputs": [],
   "source": [
    "def awesome(positional, default=\"default\", flag=True):\n",
    "    return positional, default, flag"
   ]
  },
  {
   "cell_type": "code",
   "execution_count": null,
   "metadata": {
    "collapsed": false
   },
   "outputs": [],
   "source": [
    "awesome(\"positional string\")"
   ]
  },
  {
   "cell_type": "code",
   "execution_count": null,
   "metadata": {
    "collapsed": false
   },
   "outputs": [],
   "source": [
    "awesome('pos', 'def', 'flag') # positional arguments are applied in order"
   ]
  },
  {
   "cell_type": "code",
   "execution_count": null,
   "metadata": {
    "collapsed": false
   },
   "outputs": [],
   "source": [
    "awesome('pos', flag='flag') # defalt keyword can be skipped, but only if flag is used explicitly"
   ]
  },
  {
   "cell_type": "code",
   "execution_count": null,
   "metadata": {
    "collapsed": false
   },
   "outputs": [],
   "source": [
    "awesome('pos', flag='flag', default='def') # if you are using explicit keywords order doesn't matter"
   ]
  },
  {
   "cell_type": "code",
   "execution_count": null,
   "metadata": {
    "collapsed": false
   },
   "outputs": [],
   "source": [
    "awesome('pos', default='def', 'flag') # This doesn't work though"
   ]
  },
  {
   "cell_type": "code",
   "execution_count": null,
   "metadata": {
    "collapsed": false
   },
   "outputs": [],
   "source": [
    "awesome(default='def') # This also doesn't work, the positional argument must be provided"
   ]
  },
  {
   "cell_type": "markdown",
   "metadata": {},
   "source": [
    "Not all argments need to be named. It is possible to capture extra positional and keyword arguments using a special and a bit odd bit of syntax with \"\\*\" and \"\\*\\*\".\n",
    "\n",
    "## Math\n",
    "\n",
    "Basic mathematical functions are supplied via the math module."
   ]
  },
  {
   "cell_type": "code",
   "execution_count": null,
   "metadata": {
    "collapsed": false
   },
   "outputs": [],
   "source": [
    "import math"
   ]
  },
  {
   "cell_type": "code",
   "execution_count": null,
   "metadata": {
    "collapsed": false
   },
   "outputs": [],
   "source": [
    "print(math.cos(0))"
   ]
  },
  {
   "cell_type": "code",
   "execution_count": null,
   "metadata": {
    "collapsed": false
   },
   "outputs": [],
   "source": [
    "print(math.log(27))"
   ]
  },
  {
   "cell_type": "code",
   "execution_count": null,
   "metadata": {
    "collapsed": false
   },
   "outputs": [],
   "source": [
    "print(math.log(27,3))"
   ]
  },
  {
   "cell_type": "markdown",
   "metadata": {},
   "source": [
    "Try"
   ]
  },
  {
   "cell_type": "code",
   "execution_count": null,
   "metadata": {
    "collapsed": false
   },
   "outputs": [],
   "source": [
    "help(math.log)"
   ]
  },
  {
   "cell_type": "markdown",
   "metadata": {},
   "source": [
    "to see why the log function can take a variable number of arguments.\n",
    "\n",
    "# Next Steps\n",
    "Go through the Setup Python instructions if you haven't already to make sure python is installed, pip is installed, and you have a good editor.\n",
    "\n",
    "If there is still time, help out some one else who is a bit further behind.\n",
    "\n",
    "You can also do some addition reading. Here are some choice selections form the Python Tutorial, but you can also just start from the beginning.\n",
    "\n",
    "* [http://docs.python.org/2/tutorial/controlflow.html#pass-statements](http://docs.python.org/2/tutorial/controlflow.html#pass-statements)\n",
    "* [http://docs.python.org/2/tutorial/controlflow.html#documentation-strings](http://docs.python.org/2/tutorial/controlflow.html#documentation-strings)\n",
    "* [http://docs.python.org/2/tutorial/datastructures.html#list-comprehensions](http://docs.python.org/2/tutorial/datastructures.html#list-comprehensions)\n",
    "* [http://docs.python.org/2/tutorial/datastructures.html#the-del-statement]([http://docs.python.org/2/tutorial/datastructures.html#the-del-statement)\n",
    "* [http://docs.python.org/2/tutorial/datastructures.html#sets](http://docs.python.org/2/tutorial/datastructures.html#sets)\n",
    "* [http://docs.python.org/2/tutorial/classes.html](http://docs.python.org/2/tutorial/classes.html)\n"
   ]
  }
 ],
 "metadata": {
  "kernelspec": {
   "display_name": "Python 2",
   "language": "python",
   "name": "python2"
  },
  "language_info": {
   "codemirror_mode": {
    "name": "ipython",
    "version": 2
   },
   "file_extension": ".py",
   "mimetype": "text/x-python",
   "name": "python",
   "nbconvert_exporter": "python",
   "pygments_lexer": "ipython2",
   "version": "2.7.10"
  }
 },
 "nbformat": 4,
 "nbformat_minor": 0
}
